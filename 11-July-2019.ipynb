{
 "cells": [
  {
   "cell_type": "markdown",
   "metadata": {},
   "source": [
    "### Standard Libraries\n",
    "- File I/O\n",
    "- Regular Expresssion\n",
    "- Datetime\n",
    "- Math (numerical and Mathematical)"
   ]
  },
  {
   "cell_type": "markdown",
   "metadata": {},
   "source": [
    "### File Handling in Python\n",
    "- File:- Document containing information resides on the permanenet storage\n",
    "- Different types of files :- txt,doc,pdf,csv and etc...\n",
    "- Input  -- Keyboard\n",
    "- Output -- File\n",
    "### Modes of the File I/O\n",
    "- 'w' -- This mode is used to file writing\n",
    "      -- If the file is not present first it creates the file and write some data to it\n",
    "      -- If the file is already present then it will rewrite the previous content"
   ]
  },
  {
   "cell_type": "code",
   "execution_count": 3,
   "metadata": {},
   "outputs": [
    {
     "name": "stdout",
     "output_type": "stream",
     "text": [
      "File is created and data has written\n"
     ]
    }
   ],
   "source": [
    "# Function to create a file and write to the file\n",
    "def createFile(filename):\n",
    "    f = open(filename,'w')\n",
    "    for i in range(10):\n",
    "        f.write('This is %d Line\\n' % i)\n",
    "    print(\"File is created and data has written\")\n",
    "    return \n",
    "createFile('file1.txt')"
   ]
  },
  {
   "cell_type": "code",
   "execution_count": 2,
   "metadata": {},
   "outputs": [
    {
     "name": "stdout",
     "output_type": "stream",
     "text": [
      " Volume in drive C has no label.\n",
      " Volume Serial Number is D0DF-05E5\n",
      "\n",
      " Directory of C:\\Users\\dell\n",
      "\n",
      "11-07-2019  09:31    <DIR>          .\n",
      "11-07-2019  09:31    <DIR>          ..\n",
      "31-05-2019  12:04    <DIR>          .anaconda\n",
      "18-02-2019  12:11    <DIR>          .android\n",
      "28-06-2018  10:01    <DIR>          .AndroidStudio3.1\n",
      "11-02-2019  13:34    <DIR>          .AndroidStudio3.3\n",
      "10-07-2019  16:38             2,418 .bash_history\n",
      "22-09-2018  12:22               183 .canopy_runtimes.json\n",
      "01-06-2019  14:32    <DIR>          .conda\n",
      "09-07-2019  08:51                43 .condarc\n",
      "27-06-2018  22:30                16 .emulator_console_auth_token\n",
      "10-06-2019  10:23               210 .gitconfig\n",
      "27-06-2018  21:34    <DIR>          .gradle\n",
      "29-06-2019  10:06    <DIR>          .idlerc\n",
      "11-07-2019  08:59    <DIR>          .ipynb_checkpoints\n",
      "10-03-2018  16:13    <DIR>          .ipython\n",
      "21-06-2019  22:46    <DIR>          .jupyter\n",
      "01-06-2019  16:02    <DIR>          .matplotlib\n",
      "25-06-2019  14:57                66 .minttyrc\n",
      "10-06-2019  15:48    <DIR>          .PyCharm2018.2\n",
      "25-12-2018  11:25    <DIR>          .PyCharmCE2018.3\n",
      "03-06-2019  07:11               495 .python_history\n",
      "09-07-2019  16:25             1,510 .viminfo\n",
      "05-07-2019  15:49            10,806 05-July-2019.ipynb\n",
      "06-07-2019  12:57            11,691 06-July-2019.ipynb\n",
      "08-07-2019  15:50            14,759 08-July-2019.ipynb\n",
      "09-07-2019  15:47            15,838 09-July-2019.ipynb\n",
      "06-07-2019  12:46            31,132 1.jpg\n",
      "10-07-2019  16:49            21,039 10-July-2019.ipynb\n",
      "11-07-2019  09:31             1,603 11-July-2019.ipynb\n",
      "26-06-2019  19:01    <DIR>          3D Objects\n",
      "31-05-2019  16:41    <DIR>          Anaconda3\n",
      "11-02-2019  16:50    <DIR>          android-studio-ide-182.5264788-windows\n",
      "11-02-2019  16:46     1,057,343,823 android-studio-ide-182.5264788-windows.zip\n",
      "05-02-2019  09:49    <DIR>          AndroidStudioProjects\n",
      "14-03-2019  09:47    <DIR>          Apple\n",
      "29-12-2018  11:37               209 BullseyeCoverageError.txt\n",
      "10-03-2018  16:13    <DIR>          Canopy\n",
      "26-06-2019  19:01    <DIR>          Contacts\n",
      "01-06-2019  14:13                 6 data\n",
      "10-07-2019  17:29    <DIR>          Desktop\n",
      "10-07-2019  17:54    <DIR>          Documents\n",
      "10-07-2019  17:45    <DIR>          Downloads\n",
      "26-06-2019  19:01    <DIR>          Favorites\n",
      "11-07-2019  09:31               150 file1.txt\n",
      "23-01-2019  23:19    <DIR>          iCloudDrive\n",
      "06-02-2019  17:17    <DIR>          jks\n",
      "26-06-2019  19:02    <DIR>          Links\n",
      "26-06-2019  23:58    <DIR>          Markdown\n",
      "26-06-2019  19:01    <DIR>          Music\n",
      "10-07-2019  23:33    <DIR>          OneDrive\n",
      "28-06-2019  22:30    <DIR>          Pictures\n",
      "10-06-2019  15:56    <DIR>          PycharmProjects\n",
      "15-06-2019  16:16    <DIR>          python\n",
      "26-06-2019  19:02    <DIR>          Saved Games\n",
      "11-02-2019  16:13       156,136,858 sdk-tools-windows-4333796.zip\n",
      "26-06-2019  19:01    <DIR>          Searches\n",
      "21-06-2019  22:57                72 Untitled.ipynb\n",
      "22-06-2019  09:36             1,054 Untitled1.ipynb\n",
      "24-06-2019  17:34               555 Untitled2.ipynb\n",
      "25-06-2019  08:28               513 Untitled3.ipynb\n",
      "25-06-2019  21:36               555 Untitled4.ipynb\n",
      "05-07-2019  14:01                72 Untitled5.ipynb\n",
      "18-03-2018  08:43    <DIR>          Videos\n",
      "              26 File(s)  1,213,595,676 bytes\n",
      "              38 Dir(s)  53,706,727,424 bytes free\n"
     ]
    }
   ],
   "source": [
    "ls"
   ]
  },
  {
   "cell_type": "code",
   "execution_count": 6,
   "metadata": {},
   "outputs": [
    {
     "ename": "SyntaxError",
     "evalue": "invalid syntax (<ipython-input-6-2d5e8d55dbdb>, line 2)",
     "output_type": "error",
     "traceback": [
      "\u001b[1;36m  File \u001b[1;32m\"<ipython-input-6-2d5e8d55dbdb>\"\u001b[1;36m, line \u001b[1;32m2\u001b[0m\n\u001b[1;33m    cat file1.txt\u001b[0m\n\u001b[1;37m            ^\u001b[0m\n\u001b[1;31mSyntaxError\u001b[0m\u001b[1;31m:\u001b[0m invalid syntax\n"
     ]
    }
   ],
   "source": [
    "cat file1.txt"
   ]
  },
  {
   "cell_type": "code",
   "execution_count": 8,
   "metadata": {},
   "outputs": [
    {
     "name": "stdout",
     "output_type": "stream",
     "text": [
      "File is created and data has written\n"
     ]
    }
   ],
   "source": [
    "def createFile(filename):\n",
    "    f = open(filename,'w')\n",
    "    f.write('Testing...\\n')\n",
    "    print(\"File is created and data has written\")\n",
    "    return \n",
    "createFile('file1.txt')"
   ]
  },
  {
   "cell_type": "code",
   "execution_count": 11,
   "metadata": {},
   "outputs": [
    {
     "name": "stdout",
     "output_type": "stream",
     "text": [
      "File Created and Successfully data written\n"
     ]
    }
   ],
   "source": [
    "def appendData(filename):\n",
    "    f = open(filename,'a')\n",
    "    for i in range(10):\n",
    "        f.write(\"This is %d Line\\n\" % i )\n",
    "    print(\"File Created and Successfully data written\")\n",
    "    return\n",
    "appendData('file2.txt')"
   ]
  },
  {
   "cell_type": "code",
   "execution_count": 12,
   "metadata": {},
   "outputs": [
    {
     "name": "stdout",
     "output_type": "stream",
     "text": [
      "File Created and Successfully data written\n"
     ]
    }
   ],
   "source": [
    "def appendData(filename):\n",
    "    f = open(filename,'a')\n",
    "    f.write(\"New Line 1 \\n\")\n",
    "    f.write(\"New Line 2 \\n\")\n",
    "    print(\"File Created and Successfully data written\")\n",
    "    f.close()\n",
    "    return\n",
    "appendData('file2.txt')"
   ]
  },
  {
   "cell_type": "code",
   "execution_count": 13,
   "metadata": {},
   "outputs": [
    {
     "name": "stdout",
     "output_type": "stream",
     "text": [
      "This is 0 Line\n",
      "This is 1 Line\n",
      "This is 2 Line\n",
      "This is 3 Line\n",
      "This is 4 Line\n",
      "This is 5 Line\n",
      "This is 6 Line\n",
      "This is 7 Line\n",
      "This is 8 Line\n",
      "This is 9 Line\n",
      "New Line 1 \n",
      "New Line 2 \n",
      "\n"
     ]
    }
   ],
   "source": [
    "# Function to read of the file\n",
    "def readFileData(filename):\n",
    "    f = open(filename,'r')\n",
    "    if f.mode == 'r':\n",
    "        x = f.read()\n",
    "        print(x)\n",
    "    f.close()\n",
    "    return\n",
    "readFileData('file2.txt')"
   ]
  },
  {
   "cell_type": "code",
   "execution_count": 18,
   "metadata": {},
   "outputs": [
    {
     "name": "stdout",
     "output_type": "stream",
     "text": [
      "Enter the file namedata.txt\n",
      "Enter the mode of  the filer\n",
      "Data to the fileData to the file\n"
     ]
    }
   ],
   "source": [
    "# Function to read the File\n",
    "def fileOperations(filename,mode):\n",
    "    with open(filename,mode) as f:\n",
    "        if f.mode == 'r':\n",
    "            data = f.read()\n",
    "            print(data)\n",
    "        elif f.mode == 'a':\n",
    "            f.write('Data to the file\\n')\n",
    "            print('The data successfully written')\n",
    "    f.close()\n",
    "    return\n",
    "filename = input('Enter the file name')\n",
    "mode = input('Enter the mode of  the file')\n",
    "fileOperations(filename,mode)    "
   ]
  },
  {
   "cell_type": "code",
   "execution_count": 20,
   "metadata": {},
   "outputs": [
    {
     "name": "stdout",
     "output_type": "stream",
     "text": [
      "Enter the file name : file2.txt\n",
      "Enter the word : This\n"
     ]
    },
    {
     "data": {
      "text/plain": [
       "10"
      ]
     },
     "execution_count": 20,
     "metadata": {},
     "output_type": "execute_result"
    }
   ],
   "source": [
    "# Data Analysis\n",
    "# Word Count Program\n",
    "def wordCount(filename,word):\n",
    "    with open(filename,'r') as f:\n",
    "        if f.mode == 'r':\n",
    "            x = f.read()\n",
    "            li = x.split() # It's splits the string with whitespace\n",
    "    cnt = li.count(word)\n",
    "    return cnt\n",
    "filename = input('Enter the file name : ')\n",
    "word = input('Enter the word : ') # which word count you need\n",
    "wordCount(filename,word)"
   ]
  },
  {
   "cell_type": "code",
   "execution_count": 22,
   "metadata": {},
   "outputs": [
    {
     "name": "stdout",
     "output_type": "stream",
     "text": [
      "Enter the filename : file2.txt\n"
     ]
    },
    {
     "data": {
      "text/plain": [
       "174"
      ]
     },
     "execution_count": 22,
     "metadata": {},
     "output_type": "execute_result"
    }
   ],
   "source": [
    "# character count from the given file\n",
    "def charCount(filename):\n",
    "    with open(filename,'r') as f:\n",
    "        if f.mode == 'r':\n",
    "            x = f.read()\n",
    "            li = list(x)\n",
    "    return len(li)\n",
    "filename = input('Enter the filename : ')\n",
    "charCount(filename)"
   ]
  },
  {
   "cell_type": "code",
   "execution_count": 24,
   "metadata": {},
   "outputs": [
    {
     "name": "stdout",
     "output_type": "stream",
     "text": [
      "['Python Progr', 'mming']\n"
     ]
    }
   ],
   "source": [
    "s1 = \"Python Programming\"\n",
    "print(s1.split('a'))"
   ]
  },
  {
   "cell_type": "code",
   "execution_count": 25,
   "metadata": {},
   "outputs": [
    {
     "name": "stdout",
     "output_type": "stream",
     "text": [
      "Enter the filename  : file2.txt\n"
     ]
    },
    {
     "data": {
      "text/plain": [
       "12"
      ]
     },
     "execution_count": 25,
     "metadata": {},
     "output_type": "execute_result"
    }
   ],
   "source": [
    "# Function to find the no of lines in the input file\n",
    "# Input -- filename(file2.txt)\n",
    "# output -- No of Lines(12)\n",
    "def countOfLines(filename):\n",
    "    with open(filename,'r') as f:\n",
    "        if f.mode == 'r':\n",
    "            x = f.read()\n",
    "            li = x.split(\"\\n\")\n",
    "    return len(li)\n",
    "filename = input('Enter the filename  : ')\n",
    "countOfLines(filename)"
   ]
  },
  {
   "cell_type": "code",
   "execution_count": 26,
   "metadata": {},
   "outputs": [
    {
     "name": "stdout",
     "output_type": "stream",
     "text": [
      "Enter the filename : file2.txt\n"
     ]
    },
    {
     "data": {
      "text/plain": [
       "'Upper Case = 24 , Lower Case = 90'"
      ]
     },
     "execution_count": 26,
     "metadata": {},
     "output_type": "execute_result"
    }
   ],
   "source": [
    "# Function to print the Upper and Lower characters\n",
    "def caseCount(filename):\n",
    "    cntUpper = 0\n",
    "    cntLower = 0\n",
    "    with open(filename,'r') as f:\n",
    "        if f.mode == 'r':\n",
    "            x = f.read()\n",
    "            li = list(x)\n",
    "    for i in li:\n",
    "        if i.isupper():\n",
    "            cntUpper += 1 # cntUpper = cntUpper + 1\n",
    "        elif i.islower():\n",
    "            cntLower += 1 # cntLower = cntLower + 1\n",
    "    output = 'Upper Case = {0} , Lower Case = {1}'.format(cntUpper,cntLower)\n",
    "    return output\n",
    "filename = input('Enter the filename : ')\n",
    "caseCount(filename)"
   ]
  },
  {
   "cell_type": "markdown",
   "metadata": {},
   "source": [
    "###  math, random, os  \n",
    "- os package it contains the certains methods which works with OS"
   ]
  },
  {
   "cell_type": "code",
   "execution_count": 27,
   "metadata": {},
   "outputs": [
    {
     "name": "stdout",
     "output_type": "stream",
     "text": [
      " Volume in drive C has no label.\n",
      " Volume Serial Number is D0DF-05E5\n",
      "\n",
      " Directory of C:\\Users\\dell\n",
      "\n",
      "11-07-2019  12:25    <DIR>          .\n",
      "11-07-2019  12:25    <DIR>          ..\n",
      "31-05-2019  12:04    <DIR>          .anaconda\n",
      "18-02-2019  12:11    <DIR>          .android\n",
      "28-06-2018  10:01    <DIR>          .AndroidStudio3.1\n",
      "11-02-2019  13:34    <DIR>          .AndroidStudio3.3\n",
      "10-07-2019  16:38             2,418 .bash_history\n",
      "22-09-2018  12:22               183 .canopy_runtimes.json\n",
      "01-06-2019  14:32    <DIR>          .conda\n",
      "09-07-2019  08:51                43 .condarc\n",
      "27-06-2018  22:30                16 .emulator_console_auth_token\n",
      "10-06-2019  10:23               210 .gitconfig\n",
      "27-06-2018  21:34    <DIR>          .gradle\n",
      "29-06-2019  10:06    <DIR>          .idlerc\n",
      "11-07-2019  08:59    <DIR>          .ipynb_checkpoints\n",
      "10-03-2018  16:13    <DIR>          .ipython\n",
      "21-06-2019  22:46    <DIR>          .jupyter\n",
      "01-06-2019  16:02    <DIR>          .matplotlib\n",
      "25-06-2019  14:57                66 .minttyrc\n",
      "10-06-2019  15:48    <DIR>          .PyCharm2018.2\n",
      "25-12-2018  11:25    <DIR>          .PyCharmCE2018.3\n",
      "03-06-2019  07:11               495 .python_history\n",
      "09-07-2019  16:25             1,510 .viminfo\n",
      "05-07-2019  15:49            10,806 05-July-2019.ipynb\n",
      "06-07-2019  12:57            11,691 06-July-2019.ipynb\n",
      "08-07-2019  15:50            14,759 08-July-2019.ipynb\n",
      "09-07-2019  15:47            15,838 09-July-2019.ipynb\n",
      "06-07-2019  12:46            31,132 1.jpg\n",
      "10-07-2019  16:49            21,039 10-July-2019.ipynb\n",
      "11-07-2019  12:25            14,529 11-July-2019.ipynb\n",
      "26-06-2019  19:01    <DIR>          3D Objects\n",
      "31-05-2019  16:41    <DIR>          Anaconda3\n",
      "11-02-2019  16:50    <DIR>          android-studio-ide-182.5264788-windows\n",
      "11-02-2019  16:46     1,057,343,823 android-studio-ide-182.5264788-windows.zip\n",
      "05-02-2019  09:49    <DIR>          AndroidStudioProjects\n",
      "14-03-2019  09:47    <DIR>          Apple\n",
      "29-12-2018  11:37               209 BullseyeCoverageError.txt\n",
      "10-03-2018  16:13    <DIR>          Canopy\n",
      "26-06-2019  19:01    <DIR>          Contacts\n",
      "01-06-2019  14:13                 6 data\n",
      "11-07-2019  10:25                32 data.txt\n",
      "10-07-2019  17:29    <DIR>          Desktop\n",
      "10-07-2019  17:54    <DIR>          Documents\n",
      "10-07-2019  17:45    <DIR>          Downloads\n",
      "26-06-2019  19:01    <DIR>          Favorites\n",
      "11-07-2019  09:46                12 file1.txt\n",
      "11-07-2019  11:47               183 file2.txt\n",
      "23-01-2019  23:19    <DIR>          iCloudDrive\n",
      "06-02-2019  17:17    <DIR>          jks\n",
      "26-06-2019  19:02    <DIR>          Links\n",
      "26-06-2019  23:58    <DIR>          Markdown\n",
      "26-06-2019  19:01    <DIR>          Music\n",
      "10-07-2019  23:33    <DIR>          OneDrive\n",
      "28-06-2019  22:30    <DIR>          Pictures\n",
      "10-06-2019  15:56    <DIR>          PycharmProjects\n",
      "15-06-2019  16:16    <DIR>          python\n",
      "26-06-2019  19:02    <DIR>          Saved Games\n",
      "11-02-2019  16:13       156,136,858 sdk-tools-windows-4333796.zip\n",
      "26-06-2019  19:01    <DIR>          Searches\n",
      "21-06-2019  22:57                72 Untitled.ipynb\n",
      "22-06-2019  09:36             1,054 Untitled1.ipynb\n",
      "24-06-2019  17:34               555 Untitled2.ipynb\n",
      "25-06-2019  08:28               513 Untitled3.ipynb\n",
      "25-06-2019  21:36               555 Untitled4.ipynb\n",
      "05-07-2019  14:01                72 Untitled5.ipynb\n",
      "18-03-2018  08:43    <DIR>          Videos\n",
      "              28 File(s)  1,213,608,679 bytes\n",
      "              38 Dir(s)  53,378,191,360 bytes free\n"
     ]
    }
   ],
   "source": [
    "ls"
   ]
  },
  {
   "cell_type": "code",
   "execution_count": 28,
   "metadata": {},
   "outputs": [
    {
     "name": "stdout",
     "output_type": "stream",
     "text": [
      "C:\\Users\\dell\\Desktop\\PythonProg\\Git\n"
     ]
    }
   ],
   "source": [
    "cd Desktop/PythonProg/Git"
   ]
  },
  {
   "cell_type": "code",
   "execution_count": 29,
   "metadata": {},
   "outputs": [
    {
     "name": "stdout",
     "output_type": "stream",
     "text": [
      " Volume in drive C has no label.\n",
      " Volume Serial Number is D0DF-05E5\n",
      "\n",
      " Directory of C:\\Users\\dell\\Desktop\\PythonProg\\Git\n",
      "\n",
      "10-07-2019  16:35    <DIR>          .\n",
      "10-07-2019  16:35    <DIR>          ..\n",
      "05-07-2019  15:52            10,806 05-July-2019.ipynb\n",
      "06-07-2019  12:57            11,691 06-July-2019.ipynb\n",
      "08-07-2019  15:58            14,759 08-July-2019.ipynb\n",
      "09-07-2019  16:20            15,838 09-July-2019.ipynb\n",
      "10-07-2019  16:35            20,979 10-July-2019.ipynb\n",
      "05-07-2019  10:04               129 data.txt\n",
      "05-07-2019  10:09             2,056 git_Commands.txt\n",
      "05-07-2019  09:42    <DIR>          Gitam-Python\n",
      "09-07-2019  16:23                16 README.md\n",
      "               8 File(s)         76,274 bytes\n",
      "               3 Dir(s)  53,377,429,504 bytes free\n"
     ]
    }
   ],
   "source": [
    "ls"
   ]
  },
  {
   "cell_type": "code",
   "execution_count": 31,
   "metadata": {},
   "outputs": [
    {
     "name": "stdout",
     "output_type": "stream",
     "text": [
      "C:\\Users\\dell\\Desktop\\PythonProg\n"
     ]
    }
   ],
   "source": [
    "cd .."
   ]
  },
  {
   "cell_type": "code",
   "execution_count": 32,
   "metadata": {},
   "outputs": [
    {
     "data": {
      "text/plain": [
       "['.git',\n",
       " '05-July-2019.ipynb',\n",
       " '06-July-2019.ipynb',\n",
       " '08-July-2019.ipynb',\n",
       " '09-July-2019.ipynb',\n",
       " '10-July-2019.ipynb',\n",
       " 'data.txt',\n",
       " 'Gitam-Python',\n",
       " 'git_Commands.txt',\n",
       " 'README.md']"
      ]
     },
     "execution_count": 32,
     "metadata": {},
     "output_type": "execute_result"
    }
   ],
   "source": [
    "import os\n",
    "os.listdir('Git/') # listdir() -- ls"
   ]
  },
  {
   "cell_type": "code",
   "execution_count": 34,
   "metadata": {},
   "outputs": [
    {
     "name": "stdout",
     "output_type": "stream",
     "text": [
      ".git\n",
      "05-July-2019.ipynb\n",
      "06-July-2019.ipynb\n",
      "08-July-2019.ipynb\n",
      "09-July-2019.ipynb\n",
      "10-July-2019.ipynb\n",
      "data.txt\n",
      "Gitam-Python\n",
      "git_Commands.txt\n",
      "README.md\n"
     ]
    }
   ],
   "source": [
    "li = os.listdir('Git/')\n",
    "for i in li:\n",
    "    print(i)"
   ]
  },
  {
   "cell_type": "markdown",
   "metadata": {},
   "source": [
    "- Older version Python -- os.listdir()\n",
    "- New Version Python   -- os.scandir() and pathlib.Path()"
   ]
  },
  {
   "cell_type": "code",
   "execution_count": 35,
   "metadata": {},
   "outputs": [
    {
     "name": "stdout",
     "output_type": "stream",
     "text": [
      "<DirEntry '.git'>\n",
      "<DirEntry '05-July-2019.ipynb'>\n",
      "<DirEntry '06-July-2019.ipynb'>\n",
      "<DirEntry '08-July-2019.ipynb'>\n",
      "<DirEntry '09-July-2019.ipynb'>\n",
      "<DirEntry '10-July-2019.ipynb'>\n",
      "<DirEntry 'data.txt'>\n",
      "<DirEntry 'Gitam-Python'>\n",
      "<DirEntry 'git_Commands.txt'>\n",
      "<DirEntry 'README.md'>\n"
     ]
    }
   ],
   "source": [
    "li = os.scandir('Git/')\n",
    "for i in li:\n",
    "    print(i)"
   ]
  },
  {
   "cell_type": "code",
   "execution_count": 38,
   "metadata": {},
   "outputs": [
    {
     "name": "stdout",
     "output_type": "stream",
     "text": [
      ".git\n",
      "05-July-2019.ipynb\n",
      "06-July-2019.ipynb\n",
      "08-July-2019.ipynb\n",
      "09-July-2019.ipynb\n",
      "10-July-2019.ipynb\n",
      "data.txt\n",
      "Gitam-Python\n",
      "git_Commands.txt\n",
      "README.md\n"
     ]
    }
   ],
   "source": [
    "from pathlib import Path\n",
    "li = Path('Git/')\n",
    "for i in li.iterdir():\n",
    "    print(i.name)"
   ]
  },
  {
   "cell_type": "markdown",
   "metadata": {},
   "source": [
    "### Listing all files in a Directory"
   ]
  },
  {
   "cell_type": "code",
   "execution_count": 40,
   "metadata": {},
   "outputs": [
    {
     "name": "stdout",
     "output_type": "stream",
     "text": [
      "05-July-2019.ipynb\n",
      "06-July-2019.ipynb\n",
      "08-July-2019.ipynb\n",
      "09-July-2019.ipynb\n",
      "10-July-2019.ipynb\n",
      "data.txt\n",
      "git_Commands.txt\n",
      "README.md\n"
     ]
    }
   ],
   "source": [
    "import os\n",
    "dirPath = \"Git/\"\n",
    "for i in os.listdir(dirPath):\n",
    "    if os.path.isfile(os.path.join(dirPath,i)):\n",
    "        print(i)"
   ]
  },
  {
   "cell_type": "code",
   "execution_count": 41,
   "metadata": {},
   "outputs": [
    {
     "data": {
      "text/plain": [
       "'C:\\\\Users\\\\dell\\\\Desktop\\\\PythonProg'"
      ]
     },
     "execution_count": 41,
     "metadata": {},
     "output_type": "execute_result"
    }
   ],
   "source": [
    "pwd"
   ]
  },
  {
   "cell_type": "code",
   "execution_count": 43,
   "metadata": {},
   "outputs": [
    {
     "name": "stdout",
     "output_type": "stream",
     "text": [
      "05-July-2019.ipynb\n",
      "06-July-2019.ipynb\n",
      "08-July-2019.ipynb\n",
      "09-July-2019.ipynb\n",
      "10-July-2019.ipynb\n",
      "data.txt\n",
      "git_Commands.txt\n",
      "README.md\n"
     ]
    }
   ],
   "source": [
    "dirPath = 'Git/'\n",
    "with os.scandir(dirPath) as f:\n",
    "    for i in f:\n",
    "        if i.is_file():\n",
    "            print(i.name)"
   ]
  },
  {
   "cell_type": "markdown",
   "metadata": {},
   "source": [
    "### Listing Subdirectories"
   ]
  },
  {
   "cell_type": "code",
   "execution_count": 44,
   "metadata": {},
   "outputs": [
    {
     "name": "stdout",
     "output_type": "stream",
     "text": [
      ".git\n",
      "Gitam-Python\n"
     ]
    }
   ],
   "source": [
    "dirPath = 'Git/'\n",
    "for i in os.listdir(dirPath):\n",
    "    if os.path.isdir(os.path.join(dirPath,i)):\n",
    "        print(i)"
   ]
  },
  {
   "cell_type": "code",
   "execution_count": 47,
   "metadata": {},
   "outputs": [
    {
     "name": "stdout",
     "output_type": "stream",
     "text": [
      ".git\n",
      "Gitam-Python\n"
     ]
    }
   ],
   "source": [
    "from pathlib import Path\n",
    "dirPath = Path('Git/')\n",
    "for i in dirPath.iterdir():\n",
    "    if i.is_dir():\n",
    "        print(i.name)"
   ]
  },
  {
   "cell_type": "code",
   "execution_count": 48,
   "metadata": {},
   "outputs": [
    {
     "name": "stdout",
     "output_type": "stream",
     "text": [
      ".git\n",
      "Gitam-Python\n"
     ]
    }
   ],
   "source": [
    "dirPath = 'Git/'\n",
    "with os.scandir(dirPath) as f:\n",
    "    for i in f:\n",
    "        if i.is_dir():\n",
    "            print(i.name)"
   ]
  },
  {
   "cell_type": "markdown",
   "metadata": {},
   "source": [
    "### Creating a Single Directory"
   ]
  },
  {
   "cell_type": "code",
   "execution_count": 49,
   "metadata": {},
   "outputs": [],
   "source": [
    "import os\n",
    "os.mkdir('SingleDirectory')"
   ]
  },
  {
   "cell_type": "code",
   "execution_count": 53,
   "metadata": {},
   "outputs": [],
   "source": [
    "import pathlib\n",
    "p = pathlib.Path('TestFolder')\n",
    "p.mkdir()"
   ]
  },
  {
   "cell_type": "code",
   "execution_count": 54,
   "metadata": {},
   "outputs": [
    {
     "name": "stdout",
     "output_type": "stream",
     "text": [
      " Volume in drive C has no label.\n",
      " Volume Serial Number is D0DF-05E5\n",
      "\n",
      " Directory of C:\\Users\\dell\\Desktop\\PythonProg\n",
      "\n",
      "11-07-2019  14:45    <DIR>          .\n",
      "11-07-2019  14:45    <DIR>          ..\n",
      "10-07-2019  16:35    <DIR>          Git\n",
      "11-07-2019  14:43    <DIR>          SingleDirectory\n",
      "11-07-2019  14:45    <DIR>          TestFolder\n",
      "               0 File(s)              0 bytes\n",
      "               5 Dir(s)  53,366,665,216 bytes free\n"
     ]
    }
   ],
   "source": [
    "ls"
   ]
  },
  {
   "cell_type": "markdown",
   "metadata": {},
   "source": [
    "### Creating Multiple  Directories"
   ]
  },
  {
   "cell_type": "code",
   "execution_count": 55,
   "metadata": {},
   "outputs": [],
   "source": [
    "import os\n",
    "os.makedirs('2019/July/11')"
   ]
  },
  {
   "cell_type": "code",
   "execution_count": 56,
   "metadata": {},
   "outputs": [
    {
     "name": "stdout",
     "output_type": "stream",
     "text": [
      " Volume in drive C has no label.\n",
      " Volume Serial Number is D0DF-05E5\n",
      "\n",
      " Directory of C:\\Users\\dell\\Desktop\\PythonProg\n",
      "\n",
      "11-07-2019  14:59    <DIR>          .\n",
      "11-07-2019  14:59    <DIR>          ..\n",
      "11-07-2019  14:59    <DIR>          2019\n",
      "10-07-2019  16:35    <DIR>          Git\n",
      "11-07-2019  14:43    <DIR>          SingleDirectory\n",
      "11-07-2019  14:45    <DIR>          TestFolder\n",
      "               0 File(s)              0 bytes\n",
      "               6 Dir(s)  53,364,948,992 bytes free\n"
     ]
    }
   ],
   "source": [
    "ls"
   ]
  },
  {
   "cell_type": "markdown",
   "metadata": {},
   "source": [
    "### Filename Pattern Matching"
   ]
  },
  {
   "cell_type": "code",
   "execution_count": 60,
   "metadata": {},
   "outputs": [
    {
     "name": "stdout",
     "output_type": "stream",
     "text": [
      "C:\\Users\\dell\\Desktop\\PythonProg\n"
     ]
    }
   ],
   "source": [
    "cd .."
   ]
  },
  {
   "cell_type": "code",
   "execution_count": 61,
   "metadata": {},
   "outputs": [
    {
     "name": "stdout",
     "output_type": "stream",
     "text": [
      "05-July-2019.ipynb\n",
      "06-July-2019.ipynb\n",
      "08-July-2019.ipynb\n",
      "09-July-2019.ipynb\n",
      "10-July-2019.ipynb\n"
     ]
    }
   ],
   "source": [
    "import os\n",
    "dirPath = 'Git/'\n",
    "for f_name in os.listdir(dirPath):\n",
    "    if f_name.endswith('.ipynb'):\n",
    "        print(f_name)"
   ]
  },
  {
   "cell_type": "code",
   "execution_count": 63,
   "metadata": {},
   "outputs": [
    {
     "name": "stdout",
     "output_type": "stream",
     "text": [
      "05-July-2019.ipynb\n",
      "06-July-2019.ipynb\n",
      "08-July-2019.ipynb\n",
      "09-July-2019.ipynb\n"
     ]
    }
   ],
   "source": [
    "import os\n",
    "dirPath = 'Git/'\n",
    "for f_name in os.listdir(dirPath):\n",
    "    if f_name.startswith('0'):\n",
    "        print(f_name)"
   ]
  },
  {
   "cell_type": "markdown",
   "metadata": {},
   "source": [
    "### Deleteing Files and Directories"
   ]
  },
  {
   "cell_type": "code",
   "execution_count": 69,
   "metadata": {},
   "outputs": [
    {
     "name": "stdout",
     "output_type": "stream",
     "text": [
      " Volume in drive C has no label.\n",
      " Volume Serial Number is D0DF-05E5\n",
      "\n",
      " Directory of C:\\Users\\dell\n",
      "\n",
      "11-07-2019  15:15    <DIR>          .\n",
      "11-07-2019  15:15    <DIR>          ..\n",
      "31-05-2019  12:04    <DIR>          .anaconda\n",
      "18-02-2019  12:11    <DIR>          .android\n",
      "28-06-2018  10:01    <DIR>          .AndroidStudio3.1\n",
      "11-02-2019  13:34    <DIR>          .AndroidStudio3.3\n",
      "10-07-2019  16:38             2,418 .bash_history\n",
      "22-09-2018  12:22               183 .canopy_runtimes.json\n",
      "01-06-2019  14:32    <DIR>          .conda\n",
      "09-07-2019  08:51                43 .condarc\n",
      "27-06-2018  22:30                16 .emulator_console_auth_token\n",
      "10-06-2019  10:23               210 .gitconfig\n",
      "27-06-2018  21:34    <DIR>          .gradle\n",
      "29-06-2019  10:06    <DIR>          .idlerc\n",
      "11-07-2019  08:59    <DIR>          .ipynb_checkpoints\n",
      "10-03-2018  16:13    <DIR>          .ipython\n",
      "21-06-2019  22:46    <DIR>          .jupyter\n",
      "01-06-2019  16:02    <DIR>          .matplotlib\n",
      "25-06-2019  14:57                66 .minttyrc\n",
      "10-06-2019  15:48    <DIR>          .PyCharm2018.2\n",
      "25-12-2018  11:25    <DIR>          .PyCharmCE2018.3\n",
      "03-06-2019  07:11               495 .python_history\n",
      "09-07-2019  16:25             1,510 .viminfo\n",
      "05-07-2019  15:49            10,806 05-July-2019.ipynb\n",
      "06-07-2019  12:57            11,691 06-July-2019.ipynb\n",
      "08-07-2019  15:50            14,759 08-July-2019.ipynb\n",
      "09-07-2019  15:47            15,838 09-July-2019.ipynb\n",
      "06-07-2019  12:46            31,132 1.jpg\n",
      "10-07-2019  16:49            21,039 10-July-2019.ipynb\n",
      "11-07-2019  15:15            31,830 11-July-2019.ipynb\n",
      "26-06-2019  19:01    <DIR>          3D Objects\n",
      "31-05-2019  16:41    <DIR>          Anaconda3\n",
      "11-02-2019  16:50    <DIR>          android-studio-ide-182.5264788-windows\n",
      "11-02-2019  16:46     1,057,343,823 android-studio-ide-182.5264788-windows.zip\n",
      "05-02-2019  09:49    <DIR>          AndroidStudioProjects\n",
      "14-03-2019  09:47    <DIR>          Apple\n",
      "29-12-2018  11:37               209 BullseyeCoverageError.txt\n",
      "10-03-2018  16:13    <DIR>          Canopy\n",
      "26-06-2019  19:01    <DIR>          Contacts\n",
      "01-06-2019  14:13                 6 data\n",
      "10-07-2019  17:29    <DIR>          Desktop\n",
      "10-07-2019  17:54    <DIR>          Documents\n",
      "10-07-2019  17:45    <DIR>          Downloads\n",
      "26-06-2019  19:01    <DIR>          Favorites\n",
      "11-07-2019  09:46                12 file1.txt\n",
      "11-07-2019  11:47               183 file2.txt\n",
      "23-01-2019  23:19    <DIR>          iCloudDrive\n",
      "06-02-2019  17:17    <DIR>          jks\n",
      "26-06-2019  19:02    <DIR>          Links\n",
      "26-06-2019  23:58    <DIR>          Markdown\n",
      "26-06-2019  19:01    <DIR>          Music\n",
      "10-07-2019  23:33    <DIR>          OneDrive\n",
      "28-06-2019  22:30    <DIR>          Pictures\n",
      "10-06-2019  15:56    <DIR>          PycharmProjects\n",
      "15-06-2019  16:16    <DIR>          python\n",
      "26-06-2019  19:02    <DIR>          Saved Games\n",
      "11-02-2019  16:13       156,136,858 sdk-tools-windows-4333796.zip\n",
      "26-06-2019  19:01    <DIR>          Searches\n",
      "21-06-2019  22:57                72 Untitled.ipynb\n",
      "22-06-2019  09:36             1,054 Untitled1.ipynb\n",
      "24-06-2019  17:34               555 Untitled2.ipynb\n",
      "25-06-2019  08:28               513 Untitled3.ipynb\n",
      "25-06-2019  21:36               555 Untitled4.ipynb\n",
      "05-07-2019  14:01                72 Untitled5.ipynb\n",
      "18-03-2018  08:43    <DIR>          Videos\n",
      "              27 File(s)  1,213,625,948 bytes\n",
      "              38 Dir(s)  53,371,400,192 bytes free\n"
     ]
    }
   ],
   "source": [
    "ls"
   ]
  },
  {
   "cell_type": "code",
   "execution_count": 70,
   "metadata": {},
   "outputs": [],
   "source": [
    "import os\n",
    "data_file = 'file1.txt' # Give the entire path c:\\\\Users\\\\dell\\\\filename\n",
    "os.remove(data_file)"
   ]
  },
  {
   "cell_type": "code",
   "execution_count": 73,
   "metadata": {},
   "outputs": [],
   "source": [
    "data_dir = 'TestFolder'\n",
    "os.rmdir(data_dir)"
   ]
  },
  {
   "cell_type": "code",
   "execution_count": 78,
   "metadata": {},
   "outputs": [
    {
     "name": "stdout",
     "output_type": "stream",
     "text": [
      " Volume in drive C has no label.\n",
      " Volume Serial Number is D0DF-05E5\n",
      "\n",
      " Directory of C:\\Users\\dell\\Desktop\\PythonProg\n",
      "\n",
      "11-07-2019  15:26    <DIR>          .\n",
      "11-07-2019  15:26    <DIR>          ..\n",
      "10-07-2019  16:35    <DIR>          Git\n",
      "11-07-2019  14:43    <DIR>          SingleDirectory\n",
      "               0 File(s)              0 bytes\n",
      "               4 Dir(s)  53,371,568,128 bytes free\n"
     ]
    }
   ],
   "source": [
    "ls"
   ]
  },
  {
   "cell_type": "code",
   "execution_count": 77,
   "metadata": {},
   "outputs": [],
   "source": [
    "import shutil # Delete the tree of structure of folder\n",
    "data_dir = '2019'\n",
    "shutil.rmtree(data_dir)"
   ]
  },
  {
   "cell_type": "markdown",
   "metadata": {},
   "source": [
    "### Regular Expressions\n",
    "- Used to specific Pattern matching\n",
    "- Symbolic notations of Pattern\n",
    "      - Patterns(RE) represents set of the values\n",
    "- [0-9] Any digits"
   ]
  },
  {
   "cell_type": "code",
   "execution_count": null,
   "metadata": {},
   "outputs": [],
   "source": []
  },
  {
   "cell_type": "code",
   "execution_count": null,
   "metadata": {},
   "outputs": [],
   "source": []
  },
  {
   "cell_type": "code",
   "execution_count": null,
   "metadata": {},
   "outputs": [],
   "source": []
  }
 ],
 "metadata": {
  "kernelspec": {
   "display_name": "Python 3",
   "language": "python",
   "name": "python3"
  },
  "language_info": {
   "codemirror_mode": {
    "name": "ipython",
    "version": 3
   },
   "file_extension": ".py",
   "mimetype": "text/x-python",
   "name": "python",
   "nbconvert_exporter": "python",
   "pygments_lexer": "ipython3",
   "version": "3.7.3"
  }
 },
 "nbformat": 4,
 "nbformat_minor": 2
}
